{
 "cells": [
  {
   "cell_type": "code",
   "execution_count": 1,
   "metadata": {},
   "outputs": [],
   "source": [
    "import numpy as np\n",
    "import pandas as pd"
   ]
  },
  {
   "cell_type": "code",
   "execution_count": 20,
   "metadata": {},
   "outputs": [
    {
     "name": "stdout",
     "output_type": "stream",
     "text": [
      "['unquiet', 'thought', ',', 'whom', 'at', 'the', 'first', 'i', 'bred', ',', 'of', \"th'\", 'inward', 'bale', 'of', 'my', 'love-pined', 'heart', ':', 'and', 'sithens', 'have', 'with', 'sighs', 'and', 'sorrows', 'fed', ',', 'till', 'greater', 'then', 'my', 'womb', 'thou', 'woxen', 'art', '.', 'break', 'forth', 'at', 'length', 'out', 'of', 'the', 'inner', 'part', ',', 'in', 'which', 'thou', 'lurkest', 'like', 'to', \"viper's\", 'brood', ':', 'and', 'seek', 'some', 'succour', 'both', 'to', 'ease', 'my', 'smart', 'and', 'also', 'to', 'sustain', 'thy', 'self', 'with', 'food', '.', 'but', 'if', 'in', 'presence', 'of', 'that', 'fairest', 'proud', 'thou', 'chance', 'to', 'come', ',', 'fall', 'lowly', 'at', 'her', 'feet', ':', 'and', 'with', 'meek', 'humbless', 'and', 'afflicted', 'mood', ',', 'pardon', 'for', 'thee', ',', 'and', 'grace', 'for', 'me', 'entreat', '.', 'which', 'if', 'she', 'grant', ',', 'then', 'live', ',', 'and', 'my', 'love', 'cherish', ',', 'if', 'not', ',', 'die', 'soon', ',', 'and', 'i', 'with', 'thee', 'will', 'perish', '.']\n"
     ]
    }
   ],
   "source": [
    "sonnets = []\n",
    "with open (\"spenser.txt\", \"r\") as myfile:\n",
    "    data=myfile.readlines()\n",
    "    data = list(filter(lambda x: x != '\\n', data))\n",
    "    i = 1\n",
    "    while i < len(data):\n",
    "        sonnets.append(data[i:i+14])\n",
    "        i += 15\n",
    "    for i, sonnet in enumerate(sonnets):\n",
    "        snt = ''\n",
    "        for line in sonnet:\n",
    "            snt += line.strip() + ' '\n",
    "        snt = snt.replace(',', ' ,').replace('.', ' .').replace(':', ' :').replace(';', ' ;').replace('!', ' !').replace('?', ' ?')\n",
    "        sonnets[i] = snt[:-1].lower().split()\n",
    "    print(sonnets[1])"
   ]
  },
  {
   "cell_type": "code",
   "execution_count": 10,
   "metadata": {},
   "outputs": [],
   "source": [
    "dict_words = pd.read_csv('Syllable_dictionary.txt', header = None)"
   ]
  },
  {
   "cell_type": "code",
   "execution_count": 11,
   "metadata": {},
   "outputs": [],
   "source": [
    "syllables = {}\n",
    "for i in range(len(dict_words)):\n",
    "    row = dict_words[0][i]\n",
    "    word = ''\n",
    "    for j in range(len(row)):\n",
    "        if(row[j]!=' '):\n",
    "            word = word+row[j]\n",
    "        else:\n",
    "            syllable_list = []\n",
    "            current_string = ''\n",
    "            for j1 in range(j+1, len(row)):\n",
    "                if(row[j1] == ' '):\n",
    "                    syllable_list.append(current_string)\n",
    "                    current_string = ''\n",
    "                else:\n",
    "                    current_string = current_string + row[j1]\n",
    "                    if(j1 == len(row) - 1):\n",
    "                        syllable_list.append(current_string)\n",
    "                        \n",
    "            syllable_list_2 = []     \n",
    "            for s in syllable_list:\n",
    "                if(len(s) == 1):\n",
    "                    syllable_list_2.append(int(s))\n",
    "                else:\n",
    "                    syllable_list_2.append(int(s[1]))\n",
    "            syllables[word] = syllable_list_2\n",
    "            break\n",
    "            "
   ]
  },
  {
   "cell_type": "code",
   "execution_count": 26,
   "metadata": {},
   "outputs": [
    {
     "data": {
      "text/plain": [
       "[2]"
      ]
     },
     "execution_count": 26,
     "metadata": {},
     "output_type": "execute_result"
    }
   ],
   "source": []
  },
  {
   "cell_type": "code",
   "execution_count": 13,
   "metadata": {},
   "outputs": [
    {
     "data": {
      "text/html": [
       "<div>\n",
       "<style scoped>\n",
       "    .dataframe tbody tr th:only-of-type {\n",
       "        vertical-align: middle;\n",
       "    }\n",
       "\n",
       "    .dataframe tbody tr th {\n",
       "        vertical-align: top;\n",
       "    }\n",
       "\n",
       "    .dataframe thead th {\n",
       "        text-align: right;\n",
       "    }\n",
       "</style>\n",
       "<table border=\"1\" class=\"dataframe\">\n",
       "  <thead>\n",
       "    <tr style=\"text-align: right;\">\n",
       "      <th></th>\n",
       "      <th>0</th>\n",
       "    </tr>\n",
       "  </thead>\n",
       "  <tbody>\n",
       "    <tr>\n",
       "      <td>0</td>\n",
       "      <td>1</td>\n",
       "    </tr>\n",
       "    <tr>\n",
       "      <td>1</td>\n",
       "      <td>From fairest creatures we desire increase,</td>\n",
       "    </tr>\n",
       "    <tr>\n",
       "      <td>2</td>\n",
       "      <td>That thereby beauty's rose might never die,</td>\n",
       "    </tr>\n",
       "    <tr>\n",
       "      <td>3</td>\n",
       "      <td>But as the riper should by time decease,</td>\n",
       "    </tr>\n",
       "    <tr>\n",
       "      <td>4</td>\n",
       "      <td>His tender heir might bear his memory:</td>\n",
       "    </tr>\n",
       "  </tbody>\n",
       "</table>\n",
       "</div>"
      ],
      "text/plain": [
       "                                             0\n",
       "0                                            1\n",
       "1   From fairest creatures we desire increase,\n",
       "2  That thereby beauty's rose might never die,\n",
       "3     But as the riper should by time decease,\n",
       "4       His tender heir might bear his memory:"
      ]
     },
     "execution_count": 13,
     "metadata": {},
     "output_type": "execute_result"
    }
   ],
   "source": [
    "raw_data = pd.read_csv('shakespeare.txt',header=None,sep='\\n')\n",
    "raw_data.head()"
   ]
  },
  {
   "cell_type": "code",
   "execution_count": 29,
   "metadata": {},
   "outputs": [
    {
     "name": "stdout",
     "output_type": "stream",
     "text": [
      "154\n"
     ]
    }
   ],
   "source": [
    "sonnets = []\n",
    "sonnet = ''\n",
    "for i in range(1,len(raw_data)):\n",
    "    if(len(raw_data[0][i].strip()) < 4):\n",
    "        sonnets.append(sonnet)\n",
    "        sonnet = ''\n",
    "    elif(i == len(raw_data) - 1):\n",
    "        sonnet = sonnet + raw_data[0][i] + '\\n'\n",
    "        sonnets.append(sonnet)\n",
    "    else:\n",
    "        sonnet = sonnet + raw_data[0][i] + '\\n'\n",
    "print(len(sonnets))"
   ]
  },
  {
   "cell_type": "code",
   "execution_count": 30,
   "metadata": {},
   "outputs": [
    {
     "name": "stdout",
     "output_type": "stream",
     "text": [
      "The little Love-god lying once asleep,\n",
      "Laid by his side his heart-inflaming brand,\n",
      "Whilst many nymphs that vowed chaste life to keep,\n",
      "Came tripping by, but in her maiden hand,\n",
      "The fairest votary took up that fire,\n",
      "Which many legions of true hearts had warmed,\n",
      "And so the general of hot desire,\n",
      "Was sleeping by a virgin hand disarmed.\n",
      "This brand she quenched in a cool well by,\n",
      "Which from Love's fire took heat perpetual,\n",
      "Growing a bath and healthful remedy,\n",
      "For men discased, but I my mistress' thrall,\n",
      "  Came there for cure and this by that I prove,\n",
      "  Love's fire heats water, water cools not love.\n",
      "\n"
     ]
    }
   ],
   "source": [
    "print(sonnets[153])"
   ]
  },
  {
   "cell_type": "code",
   "execution_count": 31,
   "metadata": {},
   "outputs": [],
   "source": [
    "for i, sonnet in enumerate(sonnets):\n",
    "    sonnets[i] = sonnet.lower()"
   ]
  },
  {
   "cell_type": "code",
   "execution_count": 32,
   "metadata": {},
   "outputs": [
    {
     "name": "stdout",
     "output_type": "stream",
     "text": [
      "the little love-god lying once asleep,\n",
      "laid by his side his heart-inflaming brand,\n",
      "whilst many nymphs that vowed chaste life to keep,\n",
      "came tripping by, but in her maiden hand,\n",
      "the fairest votary took up that fire,\n",
      "which many legions of true hearts had warmed,\n",
      "and so the general of hot desire,\n",
      "was sleeping by a virgin hand disarmed.\n",
      "this brand she quenched in a cool well by,\n",
      "which from love's fire took heat perpetual,\n",
      "growing a bath and healthful remedy,\n",
      "for men discased, but i my mistress' thrall,\n",
      "  came there for cure and this by that i prove,\n",
      "  love's fire heats water, water cools not love.\n",
      "\n"
     ]
    }
   ],
   "source": [
    "print(sonnets[153])"
   ]
  },
  {
   "cell_type": "code",
   "execution_count": 39,
   "metadata": {},
   "outputs": [],
   "source": [
    "syllables[','] = [0]\n",
    "syllables['.'] = [0]\n",
    "syllables['!'] = [0]\n",
    "syllables['?'] = [0]\n",
    "syllables[':'] = [0]\n",
    "syllables[';'] = [0]"
   ]
  },
  {
   "cell_type": "code",
   "execution_count": 40,
   "metadata": {},
   "outputs": [],
   "source": [
    "states = list(syllables.keys())"
   ]
  },
  {
   "cell_type": "code",
   "execution_count": 41,
   "metadata": {},
   "outputs": [
    {
     "name": "stdout",
     "output_type": "stream",
     "text": [
      "3212\n"
     ]
    }
   ],
   "source": [
    "print(len(states))"
   ]
  },
  {
   "cell_type": "code",
   "execution_count": 60,
   "metadata": {},
   "outputs": [],
   "source": [
    "def sonnet_to_indices(s):\n",
    "    s = s.replace('\\n', ' ').replace(',', ' ,').replace('.', ' .').replace(':', ' :').replace(';', ' ;').replace('!', ' !').replace('?', ' ?')\n",
    "    results = list(filter(lambda e: e != '', s.split(' ')))\n",
    "    for i, j in enumerate(results):\n",
    "        results[i] = states.index(j)\n",
    "    return results"
   ]
  },
  {
   "cell_type": "code",
   "execution_count": 62,
   "metadata": {},
   "outputs": [
    {
     "data": {
      "text/plain": [
       "[1109,\n",
       " 936,\n",
       " 574,\n",
       " 3025,\n",
       " 692,\n",
       " 1403,\n",
       " 3205,\n",
       " 2719,\n",
       " 2733,\n",
       " 222,\n",
       " 2262,\n",
       " 1696,\n",
       " 1787,\n",
       " 716,\n",
       " 3205,\n",
       " 391,\n",
       " 151,\n",
       " 2721,\n",
       " 2247,\n",
       " 2405,\n",
       " 393,\n",
       " 2784,\n",
       " 640,\n",
       " 3205,\n",
       " 1323,\n",
       " 2707,\n",
       " 1294,\n",
       " 1696,\n",
       " 210,\n",
       " 1323,\n",
       " 1682,\n",
       " 3210,\n",
       " 391,\n",
       " 2753,\n",
       " 535,\n",
       " 2793,\n",
       " 2741,\n",
       " 1895,\n",
       " 364,\n",
       " 926,\n",
       " 3205,\n",
       " 983,\n",
       " 2775,\n",
       " 1559,\n",
       " 1024,\n",
       " 3116,\n",
       " 2347,\n",
       " 1116,\n",
       " 3205,\n",
       " 1642,\n",
       " 5,\n",
       " 948,\n",
       " 3057,\n",
       " 14,\n",
       " 1554,\n",
       " 3205,\n",
       " 2775,\n",
       " 2339,\n",
       " 2775,\n",
       " 1041,\n",
       " 3205,\n",
       " 2793,\n",
       " 2775,\n",
       " 2661,\n",
       " 2339,\n",
       " 2807,\n",
       " 588,\n",
       " 3210,\n",
       " 2753,\n",
       " 2719,\n",
       " 148,\n",
       " 1816,\n",
       " 2721,\n",
       " 3150,\n",
       " 1104,\n",
       " 1871,\n",
       " 3205,\n",
       " 113,\n",
       " 1861,\n",
       " 1302,\n",
       " 2793,\n",
       " 2721,\n",
       " 1133,\n",
       " 2533,\n",
       " 3205,\n",
       " 3119,\n",
       " 2741,\n",
       " 1895,\n",
       " 376,\n",
       " 384,\n",
       " 2775,\n",
       " 531,\n",
       " 3205,\n",
       " 113,\n",
       " 2707,\n",
       " 460,\n",
       " 1637,\n",
       " 3014,\n",
       " 1398,\n",
       " 1798,\n",
       " 3210,\n",
       " 1974,\n",
       " 2721,\n",
       " 3149,\n",
       " 3205,\n",
       " 1868,\n",
       " 839,\n",
       " 2749,\n",
       " 1168,\n",
       " 208,\n",
       " 3205,\n",
       " 2793,\n",
       " 827,\n",
       " 2721,\n",
       " 3150,\n",
       " 799,\n",
       " 3205,\n",
       " 393,\n",
       " 2721,\n",
       " 1192,\n",
       " 113,\n",
       " 2722,\n",
       " 3206]"
      ]
     },
     "execution_count": 62,
     "metadata": {},
     "output_type": "execute_result"
    }
   ],
   "source": [
    "in"
   ]
  },
  {
   "cell_type": "code",
   "execution_count": null,
   "metadata": {},
   "outputs": [],
   "source": []
  }
 ],
 "metadata": {
  "kernelspec": {
   "display_name": "Python 3",
   "language": "python",
   "name": "python3"
  },
  "language_info": {
   "codemirror_mode": {
    "name": "ipython",
    "version": 3
   },
   "file_extension": ".py",
   "mimetype": "text/x-python",
   "name": "python",
   "nbconvert_exporter": "python",
   "pygments_lexer": "ipython3",
   "version": "3.7.4"
  }
 },
 "nbformat": 4,
 "nbformat_minor": 4
}
