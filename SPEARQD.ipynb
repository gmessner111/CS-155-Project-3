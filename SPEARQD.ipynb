{
 "cells": [
  {
   "cell_type": "code",
   "execution_count": 1,
   "metadata": {},
   "outputs": [],
   "source": [
    "import autograd\n",
    "from autograd.builtins import tuple\n",
    "import autograd.numpy as np\n",
    "\n",
    "from scipy.integrate import odeint\n",
    "import matplotlib.pyplot as plt\n",
    "import random\n",
    "import pandas as pd"
   ]
  },
  {
   "cell_type": "code",
   "execution_count": 2,
   "metadata": {},
   "outputs": [],
   "source": [
    "population_data = pd.read_csv('https://raw.githubusercontent.com/quantummind/caltech_covid_19_modeling/master/data/us/demographics/county_populations.csv')\n",
    "SIR_data = pd.read_csv('https://raw.githubusercontent.com/quantummind/caltech_covid_19_modeling/master/data/us/covid/JHU_daily_US.csv')"
   ]
  },
  {
   "cell_type": "code",
   "execution_count": 3,
   "metadata": {},
   "outputs": [],
   "source": [
    "SIR_vals = SIR_data.values"
   ]
  },
  {
   "cell_type": "code",
   "execution_count": 4,
   "metadata": {},
   "outputs": [],
   "source": [
    "def getCountyData(SIR_vals,population_data):\n",
    "    fipsToTotalPop = {}\n",
    "    for i in range(len(population_data['FIPS'])):\n",
    "        fips = population_data['FIPS'][i]\n",
    "        fipsToTotalPop[fips] = population_data['total_pop'][i]\n",
    "    \n",
    "    fipsToSIR = {}\n",
    "    for i in range(len(SIR_vals)):\n",
    "        fips = int(SIR_vals[i][0])\n",
    "        if fips in fipsToTotalPop.keys():\n",
    "            if fips in fipsToSIR.keys():\n",
    "                CDR = fipsToSIR[fips]\n",
    "                CDR.append(SIR_vals[i][1:4])\n",
    "                fipsToSIR[fips] = CDR\n",
    "            else:\n",
    "                CDR = SIR_vals[i][1:4]\n",
    "                fipsToSIR[fips] = [CDR]\n",
    "    \n",
    "    for fips in fipsToSIR.keys():\n",
    "        fipsToSIR[fips] = np.array(fipsToSIR[fips])\n",
    "    \n",
    "    fipsToIndex = {}\n",
    "    indexToFips = {}\n",
    "    i = 0\n",
    "    X = []\n",
    "    for fips in fipsToSIR.keys():\n",
    "        fipsToIndex[fips] = i\n",
    "        indexToFips[i] = fips\n",
    "        N_0 = fipsToTotalPop[fips]\n",
    "        CDR = fipsToSIR[fips]\n",
    "        county_data = []\n",
    "        for j in range(len(CDR)):\n",
    "            Q = CDR[j][0] \n",
    "            D = CDR[j][1]\n",
    "            N = N_0 - D\n",
    "            county_data.append([Q,D,N])\n",
    "        \n",
    "        X.append(county_data)\n",
    "            \n",
    "        i = i + 1\n",
    "    \n",
    "    \n",
    "    return X, fipsToIndex, indexToFips"
   ]
  },
  {
   "cell_type": "code",
   "execution_count": 5,
   "metadata": {},
   "outputs": [],
   "source": [
    "X, fipsToIndex, indexToFips = getCountyData(SIR_vals,population_data)"
   ]
  },
  {
   "cell_type": "code",
   "execution_count": null,
   "metadata": {},
   "outputs": [],
   "source": []
  },
  {
   "cell_type": "code",
   "execution_count": 153,
   "metadata": {},
   "outputs": [],
   "source": [
    "class SPEARQDSolver:\n",
    "    def __init__(self,x):\n",
    "        self.numDates = len(x)\n",
    "        self.t = np.linspace(0, self.numDates-1, self.numDates)\n",
    "        self.numparams = 7\n",
    "        self.numstates = 7\n",
    "        \n",
    "        Y0Array = np.zeros((self.numparams+1)*self.numstates)\n",
    "        for i in range(self.numstates):\n",
    "            try:\n",
    "                Y0Array[i] = x[0][i]+1\n",
    "            except:\n",
    "                Y0Array[i] = 0\n",
    "                \n",
    "        self.Y0 = Y0Array\n",
    "        \n",
    "        fullX = np.zeros(shape=(self.numDates,self.numstates))\n",
    "        for i in range(self.numDates):\n",
    "            for j in range(len(x[0])):\n",
    "                fullX[i][j] = x[i][j]\n",
    "                \n",
    "        self.y_obs = fullX\n",
    "        self.Y = None\n",
    "        \n",
    "        \n",
    "    def train_model(self, iter_params = .01*np.ones(7),maxiter = 100,max_bad_iters=3, \n",
    "                    tolerance = .99,verbose=False,eta=.00000004,weights = np.array([.01,1,0,0,0,0,0])):\n",
    "        '''\n",
    "        Train the model on the data to get a model distribution.\n",
    "        '''\n",
    "        \n",
    "        print('Training Model.')\n",
    "        eta = eta / self.y_obs[len(self.y_obs) -1][1]\n",
    "        cost = self._Cost(weights*self.y_obs)\n",
    "        grad_C = autograd.grad(cost)\n",
    "        min_cost = np.inf\n",
    "        best_params = np.zeros(self.numparams)\n",
    "        badCount = 0\n",
    "        goodCount = 0\n",
    "        \n",
    "        for i in range(maxiter):\n",
    "            sol = odeint(self._system, y0=self.Y0, t=self.t, args=tuple(iter_params))\n",
    "            Y_full = sol[:,:self.numstates]\n",
    "            cost_i = cost(weights*Y_full)\n",
    "            old_params = np.copy(iter_params)\n",
    "            gradc = grad_C(Y_full)\n",
    "            \n",
    "            for i in range(1,self.numparams+1):\n",
    "                iter_params[i-1] -= eta * (gradc * sol[:,  self.numstates*i:(self.numstates)*(i+1)]).sum() / sol.shape[0]\n",
    "            \n",
    "            if(cost_i < min_cost):\n",
    "                badCount = 0\n",
    "                goodCount = goodCount + 1 \n",
    "                min_cost = cost_i\n",
    "                Y_best = Y_full\n",
    "                best_params = np.copy(old_params)\n",
    "    \n",
    "            else:\n",
    "                badCount = badCount + 1\n",
    "                if(badCount >= max_bad_iters or cost_i/min_cost > 2):\n",
    "                    eta = eta / 2\n",
    "                    badCount = 0\n",
    "                    Y_full = Y_best \n",
    "                    iter_params = np.copy(best_params)\n",
    "            \n",
    "            \n",
    "            if i % 1 == 0 and verbose:\n",
    "                print('\\t', end='')\n",
    "                print(cost_i)\n",
    "                print(iter_params)\n",
    "\n",
    "        \n",
    "        print('\\tComplete.')\n",
    "        \n",
    "        self.Y = Y_best\n",
    "        print(best_params)\n",
    "        print(min_cost)\n",
    "        return best_params \n",
    "    \n",
    "    def compare(self):\n",
    "        '''\n",
    "        Compare the model predictions to the test data.\n",
    "        '''\n",
    "        \n",
    "        if self.y_obs is None or self.Y is None:\n",
    "            print('Model or data does not exist')\n",
    "            return\n",
    "        \n",
    "        plt.figure()\n",
    "        plt.plot(self.t, self.Y[:,0], label='Q', color='C0', linewidth=5)\n",
    "        plt.plot(self.t, self.Y[:,1], label='D', color='C1', linewidth=5)\n",
    "        plt.plot(self.t, self.Y[:,2], label='N', color='C2', linewidth=5)\n",
    "        \n",
    "        plt.scatter(self.t, self.y_obs[:,0], marker='.', alpha=0.5, label='Q')\n",
    "        plt.scatter(self.t, self.y_obs[:,1], marker='.', alpha=0.5, label='D')\n",
    "        plt.scatter(self.t, self.y_obs[:,2], marker='.', alpha=0.5, label='N')\n",
    "        plt.legend()\n",
    "        plt.show()\n",
    "        \n",
    "        plt.figure()\n",
    "        plt.plot(self.t, self.Y[:,1], label='D', color='C1', linewidth=5)\n",
    "        plt.scatter(self.t, self.y_obs[:,1], marker='.', alpha=0.5, label='D',color='C1')\n",
    "        plt.legend()\n",
    "        plt.show()\n",
    "        \n",
    "        \n",
    "    def _f(self, y, t, *params):\n",
    "        '''\n",
    "        Set up each differential equation\n",
    "        '''\n",
    "        Q = y[0]\n",
    "        D = y[1]\n",
    "        N = y[2]\n",
    "        S = y[3]\n",
    "        #P = y[4]\n",
    "        E = y[4]\n",
    "        A = y[5]\n",
    "        R = y[6]\n",
    "        \n",
    "        #pi = params[0]\n",
    "        beta_q = params[0]\n",
    "        beta_a = params[1]\n",
    "        alpha = params[2] \n",
    "        gamma = params[3] \n",
    "        delta = params[4] \n",
    "        lambda_ar = params[5] \n",
    "        lambda_qr = params[6]\n",
    "        \n",
    "\n",
    "        dS = -(beta_q * Q/N + beta_a * A/N) * S #- pi * S                  \n",
    "        dE = (beta_q * Q/N + beta_a * A/N) * S - gamma * E\n",
    "        dQ = gamma * (1-alpha) * E - (delta + lambda_qr) * Q \n",
    "        dA = gamma * alpha * E - lambda_ar * A\n",
    "        dR = lambda_ar * A + lambda_qr * Q\n",
    "        dD = delta * Q\n",
    "        #dP = pi * S\n",
    "        dN = -dD                                   \n",
    "\n",
    "        return np.array([dQ, dD, dN, dS, dE, dA, dR]) #dP\n",
    "\n",
    "    def _system(self, y, t, *params): \n",
    "        '''\n",
    "        Define the system of ODE's and the gradients of each variable.\n",
    "        '''\n",
    "        \n",
    "        # ODE\n",
    "        dy_dt = self._f(y[:self.numstates], t, *params)\n",
    "\n",
    "        # Sensitivities\n",
    "        J = autograd.jacobian(self._f, argnum=0)\n",
    "        grad_f_params = []\n",
    "        for i in range(self.numparams):\n",
    "            grad_f_params.append(autograd.jacobian(self._f, argnum=i+2)) \n",
    "        \n",
    "        grad_y_params = []\n",
    "        for i in range(self.numparams):\n",
    "            grad_f_i = grad_f_params[i]\n",
    "            grad_y_params.append(J(y[:self.numstates], t, *params)@ y[-self.numstates::] + grad_f_i(y[:self.numstates], t, *params))\n",
    "            \n",
    "        returnarray = []\n",
    "        returnarray.append(dy_dt)\n",
    "        for i in range(0,self.numparams):\n",
    "            returnarray.append(grad_y_params[i])\n",
    "            \n",
    "        return np.concatenate(returnarray)\n",
    "\n",
    "    def _Cost(self, y_true):\n",
    "        '''\n",
    "        Define a cost function based on the true observations.\n",
    "        '''\n",
    "\n",
    "        def cost(y_pred):\n",
    "            err = np.linalg.norm(y_true - y_pred, 2, axis=1)\n",
    "\n",
    "            return np.sum(err) / y_true.shape[1]\n",
    "\n",
    "        return cost\n",
    "    \n",
    "    def getPreds(self, tRange, *params):\n",
    "        sol_pred = odeint(self._system, y0=self.Y0, t=tRange, args=params)\n",
    "        Y_pred = sol_pred[:,:self.numstates]\n",
    "        deaths = Y_pred.T[1]\n",
    "        \n",
    "        return deaths"
   ]
  },
  {
   "cell_type": "code",
   "execution_count": 174,
   "metadata": {},
   "outputs": [
    {
     "name": "stdout",
     "output_type": "stream",
     "text": [
      "Training Model.\n",
      "\t36763.04483548396\n",
      "[1.1  0.6  0.86 1.   0.01 0.05 0.05]\n",
      "\tComplete.\n",
      "[1.1  0.6  0.86 1.   0.01 0.05 0.05]\n",
      "36763.04483548396\n"
     ]
    },
    {
     "data": {
      "image/png": "[encoded data removed]",
      "text/plain": [
       "<Figure size 432x288 with 1 Axes>"
      ]
     },
     "metadata": {
      "needs_background": "light"
     },
     "output_type": "display_data"
    },
    {
     "data": {
      "image/png": "[encoded data removed]",
      "text/plain": [
       "<Figure size 432x288 with 1 Axes>"
      ]
     },
     "metadata": {
      "needs_background": "light"
     },
     "output_type": "display_data"
    }
   ],
   "source": [
    "'''beta_q = params[0]\n",
    "        beta_a = params[1]\n",
    "        alpha = params[2] \n",
    "        gamma = params[3] \n",
    "        delta = params[4] \n",
    "        lambda_ar = params[5] \n",
    "        lambda_qr = params[6]'''\n",
    "solver = SPEARQDSolver(np.array(X[fipsToIndex[36061]]))\n",
    "params = solver.train_model(iter_params = np.array([1.1, .6, .86, 1, .01, .05, .05]), \n",
    "                            verbose=True, maxiter = 1, eta=0,weights = np.array([0,1,0,0,0,0,0]))\n",
    "solver.compare()"
   ]
  },
  {
   "cell_type": "code",
   "execution_count": 143,
   "metadata": {},
   "outputs": [],
   "source": [
    "deaths = solver.getPreds(np.linspace(0,69,70),*params)"
   ]
  },
  {
   "cell_type": "code",
   "execution_count": 144,
   "metadata": {},
   "outputs": [
    {
     "data": {
      "text/plain": [
       "[<matplotlib.lines.Line2D at 0x1520cc63c8>]"
      ]
     },
     "execution_count": 144,
     "metadata": {},
     "output_type": "execute_result"
    },
    {
     "data": {
      "image/png": "[encoded data removed]",
      "text/plain": [
       "<Figure size 432x288 with 1 Axes>"
      ]
     },
     "metadata": {
      "needs_background": "light"
     },
     "output_type": "display_data"
    }
   ],
   "source": [
    "plt.plot(deaths)"
   ]
  },
  {
   "cell_type": "code",
   "execution_count": null,
   "metadata": {},
   "outputs": [],
   "source": []
  }
 ],
 "metadata": {
  "kernelspec": {
   "display_name": "Python 3",
   "language": "python",
   "name": "python3"
  },
  "language_info": {
   "codemirror_mode": {
    "name": "ipython",
    "version": 3
   },
   "file_extension": ".py",
   "mimetype": "text/x-python",
   "name": "python",
   "nbconvert_exporter": "python",
   "pygments_lexer": "ipython3",
   "version": "3.6.10"
  }
 },
 "nbformat": 4,
 "nbformat_minor": 4
}
